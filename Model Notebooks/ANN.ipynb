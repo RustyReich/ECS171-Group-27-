{
 "cells": [
  {
   "cell_type": "code",
   "execution_count": 2,
   "metadata": {},
   "outputs": [],
   "source": [
    "import pandas as pd\n",
    "\n",
    "from sklearn.preprocessing import MinMaxScaler\n",
    "\n",
    "data = pd.read_csv(\"../Dataset.csv\")\n",
    "data = data.drop('Name', axis = 1)\n",
    "\n",
    "x = data.drop('Emotion', axis = 1)\n",
    "y = data['Emotion']\n",
    "\n",
    "scaler = MinMaxScaler(feature_range = (0, 1))\n",
    "xRescaled = scaler.fit_transform(x)\n",
    "x = pd.DataFrame(data = xRescaled, columns = x.columns)"
   ]
  },
  {
   "cell_type": "code",
   "execution_count": 3,
   "metadata": {},
   "outputs": [],
   "source": [
    "from sklearn.model_selection import train_test_split\n",
    "from sklearn.neural_network import MLPClassifier\n",
    "\n",
    "dataTrain, dataTest, classTrain, classTest = train_test_split(x, y, test_size = 0.2, random_state = 123)\n",
    "\n",
    "mlp = MLPClassifier(solver = 'sgd', random_state = 123, activation = 'logistic', learning_rate_init = 0.3, batch_size = 100, \\\n",
    "                    hidden_layer_sizes = (100,50,), max_iter = 1400, learning_rate = 'adaptive')\n",
    "\n",
    "mlp.fit(dataTrain, classTrain)\n",
    "\n",
    "predTrain = mlp.predict(dataTrain)\n",
    "predTest = mlp.predict(dataTest)"
   ]
  },
  {
   "cell_type": "code",
   "execution_count": 4,
   "metadata": {},
   "outputs": [
    {
     "name": "stdout",
     "output_type": "stream",
     "text": [
      "Confusion Matrix for Training Set:\n",
      "[[[ 998    0]\n",
      "  [   0  154]]\n",
      "\n",
      " [[ 996    0]\n",
      "  [   0  156]]\n",
      "\n",
      " [[1002    0]\n",
      "  [   0  150]]\n",
      "\n",
      " [[1000    0]\n",
      "  [   0  152]]\n",
      "\n",
      " [[1000    0]\n",
      "  [   0  152]]\n",
      "\n",
      " [[1081    0]\n",
      "  [   0   71]]\n",
      "\n",
      " [[ 986    0]\n",
      "  [   0  166]]\n",
      "\n",
      " [[1001    0]\n",
      "  [   0  151]]]\n"
     ]
    }
   ],
   "source": [
    "from sklearn.metrics import multilabel_confusion_matrix\n",
    "\n",
    "print(\"Confusion Matrix for Training Set:\")\n",
    "print(multilabel_confusion_matrix(classTrain, predTrain))"
   ]
  },
  {
   "cell_type": "code",
   "execution_count": 5,
   "metadata": {},
   "outputs": [
    {
     "name": "stdout",
     "output_type": "stream",
     "text": [
      "Confusion Matrix for Test Set:\n",
      "[[[243   7]\n",
      "  [ 13  25]]\n",
      "\n",
      " [[235  17]\n",
      "  [  8  28]]\n",
      "\n",
      " [[229  17]\n",
      "  [ 14  28]]\n",
      "\n",
      " [[239   9]\n",
      "  [ 16  24]]\n",
      "\n",
      " [[235  13]\n",
      "  [ 16  24]]\n",
      "\n",
      " [[258   5]\n",
      "  [ 15  10]]\n",
      "\n",
      " [[241  21]\n",
      "  [ 11  15]]\n",
      "\n",
      " [[233  14]\n",
      "  [ 10  31]]]\n"
     ]
    }
   ],
   "source": [
    "print(\"Confusion Matrix for Test Set:\")\n",
    "print(multilabel_confusion_matrix(classTest, predTest))"
   ]
  },
  {
   "cell_type": "code",
   "execution_count": 6,
   "metadata": {},
   "outputs": [
    {
     "name": "stdout",
     "output_type": "stream",
     "text": [
      "Training Accuracy:  1.0\n",
      "Testing Accuracy:  0.6423611111111112\n"
     ]
    }
   ],
   "source": [
    "from sklearn.metrics import accuracy_score\n",
    "\n",
    "print(\"Training Accuracy: \", accuracy_score(classTrain, predTrain))\n",
    "print(\"Testing Accuracy: \", accuracy_score(classTest, predTest))"
   ]
  },
  {
   "cell_type": "code",
   "execution_count": 7,
   "metadata": {},
   "outputs": [
    {
     "name": "stdout",
     "output_type": "stream",
     "text": [
      "Classification Report for Training Set: \n",
      "              precision    recall  f1-score   support\n",
      "\n",
      "       ANGRY       1.00      1.00      1.00       154\n",
      "        CALM       1.00      1.00      1.00       156\n",
      "     DISGUST       1.00      1.00      1.00       150\n",
      "     FEARFUL       1.00      1.00      1.00       152\n",
      "       HAPPY       1.00      1.00      1.00       152\n",
      "     NEUTRAL       1.00      1.00      1.00        71\n",
      "         SAD       1.00      1.00      1.00       166\n",
      "   SURPRISED       1.00      1.00      1.00       151\n",
      "\n",
      "    accuracy                           1.00      1152\n",
      "   macro avg       1.00      1.00      1.00      1152\n",
      "weighted avg       1.00      1.00      1.00      1152\n",
      "\n"
     ]
    }
   ],
   "source": [
    "from sklearn.metrics import classification_report\n",
    "\n",
    "print(\"Classification Report for Training Set: \")\n",
    "print(classification_report(classTrain, predTrain, zero_division = 0, target_names = mlp.classes_))"
   ]
  },
  {
   "cell_type": "code",
   "execution_count": 8,
   "metadata": {},
   "outputs": [
    {
     "name": "stdout",
     "output_type": "stream",
     "text": [
      "Classification Report for Testing Set: \n",
      "              precision    recall  f1-score   support\n",
      "\n",
      "       ANGRY       0.78      0.66      0.71        38\n",
      "        CALM       0.62      0.78      0.69        36\n",
      "     DISGUST       0.62      0.67      0.64        42\n",
      "     FEARFUL       0.73      0.60      0.66        40\n",
      "       HAPPY       0.65      0.60      0.62        40\n",
      "     NEUTRAL       0.67      0.40      0.50        25\n",
      "         SAD       0.42      0.58      0.48        26\n",
      "   SURPRISED       0.69      0.76      0.72        41\n",
      "\n",
      "    accuracy                           0.64       288\n",
      "   macro avg       0.65      0.63      0.63       288\n",
      "weighted avg       0.66      0.64      0.64       288\n",
      "\n"
     ]
    }
   ],
   "source": [
    "print(\"Classification Report for Testing Set: \")\n",
    "print(classification_report(classTest, predTest, zero_division = 0, target_names = mlp.classes_))"
   ]
  }
 ],
 "metadata": {
  "kernelspec": {
   "display_name": ".venv",
   "language": "python",
   "name": "python3"
  },
  "language_info": {
   "codemirror_mode": {
    "name": "ipython",
    "version": 3
   },
   "file_extension": ".py",
   "mimetype": "text/x-python",
   "name": "python",
   "nbconvert_exporter": "python",
   "pygments_lexer": "ipython3",
   "version": "3.11.2"
  },
  "orig_nbformat": 4
 },
 "nbformat": 4,
 "nbformat_minor": 2
}
