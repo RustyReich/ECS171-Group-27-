{
 "cells": [
  {
   "cell_type": "code",
   "execution_count": 7,
   "metadata": {},
   "outputs": [],
   "source": [
    "import pandas as pd\n",
    "\n",
    "from sklearn.preprocessing import MinMaxScaler\n",
    "\n",
    "data = pd.read_csv(\"../Dataset.csv\")\n",
    "data = data.drop('Name', axis = 1)\n",
    "\n",
    "x = data.drop('Emotion', axis = 1)\n",
    "y = data['Emotion']"
   ]
  },
  {
   "cell_type": "code",
   "execution_count": 8,
   "metadata": {},
   "outputs": [],
   "source": [
    "from sklearn.model_selection import train_test_split\n",
    "\n",
    "dataTrain, dataTest, classTrain, classTest = train_test_split(x, y, test_size = 0.2, random_state = 123)"
   ]
  },
  {
   "cell_type": "code",
   "execution_count": 9,
   "metadata": {},
   "outputs": [
    {
     "name": "stdout",
     "output_type": "stream",
     "text": [
      "Linear Kernel\n",
      "              precision    recall  f1-score   support\n",
      "\n",
      "       ANGRY       0.57      0.61      0.59        38\n",
      "        CALM       0.49      0.81      0.61        36\n",
      "     DISGUST       0.53      0.45      0.49        42\n",
      "     FEARFUL       0.58      0.65      0.61        40\n",
      "       HAPPY       0.50      0.40      0.44        40\n",
      "     NEUTRAL       0.50      0.12      0.19        25\n",
      "         SAD       0.35      0.46      0.40        26\n",
      "   SURPRISED       0.67      0.59      0.62        41\n",
      "\n",
      "    accuracy                           0.53       288\n",
      "   macro avg       0.52      0.51      0.50       288\n",
      "weighted avg       0.53      0.53      0.51       288\n",
      "\n"
     ]
    }
   ],
   "source": [
    "from sklearn.metrics import classification_report\n",
    "from sklearn.svm import SVC\n",
    "from sklearn import preprocessing\n",
    "import numpy as np\n",
    "\n",
    "svc_li = SVC(kernel='linear')\n",
    "\n",
    "scaler = preprocessing.StandardScaler()\n",
    "scaler.fit(dataTrain)\n",
    "\n",
    "Z_svm_train = scaler.transform(dataTrain)\n",
    "Z_svm_test = scaler.transform(dataTest)\n",
    "\n",
    "svc_li.fit(Z_svm_train, np.asarray(classTrain))\n",
    "\n",
    "predTrain = svc_li.predict(Z_svm_train)\n",
    "predTest = svc_li.predict(Z_svm_test)\n",
    "\n",
    "print('Linear Kernel')\n",
    "print(classification_report(classTest, svc_li.predict(Z_svm_test)))"
   ]
  },
  {
   "cell_type": "code",
   "execution_count": 10,
   "metadata": {},
   "outputs": [
    {
     "name": "stdout",
     "output_type": "stream",
     "text": [
      "Training Accuracy:  0.6345486111111112\n",
      "Testing Accuracy:  0.5277777777777778\n"
     ]
    }
   ],
   "source": [
    "from sklearn.metrics import accuracy_score\n",
    "\n",
    "print(\"Training Accuracy: \", accuracy_score(classTrain, predTrain))\n",
    "print(\"Testing Accuracy: \", accuracy_score(classTest, predTest))"
   ]
  },
  {
   "cell_type": "code",
   "execution_count": 11,
   "metadata": {},
   "outputs": [
    {
     "name": "stdout",
     "output_type": "stream",
     "text": [
      "RBF Kernel\n",
      "              precision    recall  f1-score   support\n",
      "\n",
      "       ANGRY       0.73      0.63      0.68        38\n",
      "        CALM       0.54      0.94      0.69        36\n",
      "     DISGUST       0.60      0.64      0.62        42\n",
      "     FEARFUL       0.78      0.45      0.57        40\n",
      "       HAPPY       0.47      0.47      0.48        40\n",
      "     NEUTRAL       0.75      0.12      0.21        25\n",
      "         SAD       0.32      0.42      0.37        26\n",
      "   SURPRISED       0.63      0.71      0.67        41\n",
      "\n",
      "    accuracy                           0.57       288\n",
      "   macro avg       0.60      0.55      0.53       288\n",
      "weighted avg       0.61      0.57      0.56       288\n",
      "\n"
     ]
    }
   ],
   "source": [
    "svc_rbf = SVC(kernel='rbf')\n",
    "\n",
    "scaler = preprocessing.StandardScaler()\n",
    "scaler.fit(dataTrain)\n",
    "\n",
    "Z_train = scaler.transform(dataTrain)\n",
    "Z_test = scaler.transform(dataTest)\n",
    "\n",
    "svc_rbf.fit(Z_train, np.asarray(classTrain))\n",
    "\n",
    "predTrain = svc_rbf.predict(Z_svm_train)\n",
    "predTest = svc_rbf.predict(Z_svm_test)\n",
    "\n",
    "print('RBF Kernel')\n",
    "print(classification_report(classTest, svc_rbf.predict(Z_svm_test)))"
   ]
  },
  {
   "cell_type": "code",
   "execution_count": 12,
   "metadata": {},
   "outputs": [
    {
     "name": "stdout",
     "output_type": "stream",
     "text": [
      "Training Accuracy:  0.7638888888888888\n",
      "Testing Accuracy:  0.5729166666666666\n"
     ]
    }
   ],
   "source": [
    "from sklearn.metrics import accuracy_score\n",
    "\n",
    "print(\"Training Accuracy: \", accuracy_score(classTrain, predTrain))\n",
    "print(\"Testing Accuracy: \", accuracy_score(classTest, predTest))"
   ]
  }
 ],
 "metadata": {
  "kernelspec": {
   "display_name": ".venv",
   "language": "python",
   "name": "python3"
  },
  "language_info": {
   "codemirror_mode": {
    "name": "ipython",
    "version": 3
   },
   "file_extension": ".py",
   "mimetype": "text/x-python",
   "name": "python",
   "nbconvert_exporter": "python",
   "pygments_lexer": "ipython3",
   "version": "3.11.2"
  },
  "orig_nbformat": 4
 },
 "nbformat": 4,
 "nbformat_minor": 2
}
