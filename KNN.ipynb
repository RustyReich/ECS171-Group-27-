{
 "cells": [
  {
   "cell_type": "code",
   "execution_count": 11,
   "metadata": {},
   "outputs": [],
   "source": [
    "import pandas as pd\n",
    "\n",
    "from sklearn.preprocessing import MinMaxScaler\n",
    "\n",
    "data = pd.read_csv(\"Dataset.csv\")\n",
    "data = data.drop('Name', axis = 1)\n",
    "\n",
    "x = data.drop('Emotion', axis = 1)\n",
    "y = data['Emotion']\n",
    "\n",
    "scaler = MinMaxScaler(feature_range = (0, 1))\n",
    "xRescaled = scaler.fit_transform(x)\n",
    "x = pd.DataFrame(data = xRescaled, columns = x.columns)"
   ]
  },
  {
   "cell_type": "code",
   "execution_count": 12,
   "metadata": {},
   "outputs": [],
   "source": [
    "from sklearn.model_selection import train_test_split\n",
    "from sklearn.neighbors import KNeighborsClassifier\n",
    "from sklearn.metrics import accuracy_score, precision_score, recall_score\n",
    "\n",
    "dataTrain, dataTest, classTrain, classTest = train_test_split(x, y, test_size = 0.2, random_state = 123)\n",
    "knn = KNeighborsClassifier(n_neighbors=5)\n",
    "knn.fit(dataTrain, classTrain)\n",
    "\n",
    "train_pred = knn.predict(dataTrain)\n",
    "test_pred = knn.predict(dataTest)\n"
   ]
  },
  {
   "cell_type": "code",
   "execution_count": 13,
   "metadata": {},
   "outputs": [
    {
     "name": "stdout",
     "output_type": "stream",
     "text": [
      "Confusion Matrix for Training Set:\n",
      "[[[ 962   36]\n",
      "  [  19  135]]\n",
      "\n",
      " [[ 949   47]\n",
      "  [  11  145]]\n",
      "\n",
      " [[ 981   21]\n",
      "  [  30  120]]\n",
      "\n",
      " [[ 959   41]\n",
      "  [  42  110]]\n",
      "\n",
      " [[ 975   25]\n",
      "  [  34  118]]\n",
      "\n",
      " [[1057   24]\n",
      "  [  17   54]]\n",
      "\n",
      " [[ 973   13]\n",
      "  [  58  108]]\n",
      "\n",
      " [[ 978   23]\n",
      "  [  19  132]]]\n"
     ]
    }
   ],
   "source": [
    "from sklearn.metrics import multilabel_confusion_matrix\n",
    "print(\"Confusion Matrix for Training Set:\")\n",
    "print(multilabel_confusion_matrix(classTrain, train_pred))"
   ]
  },
  {
   "cell_type": "code",
   "execution_count": 14,
   "metadata": {},
   "outputs": [
    {
     "name": "stdout",
     "output_type": "stream",
     "text": [
      "Confusion Matrix for Test Set:\n",
      "[[[227  23]\n",
      "  [ 12  26]]\n",
      "\n",
      " [[230  22]\n",
      "  [  6  30]]\n",
      "\n",
      " [[231  15]\n",
      "  [ 23  19]]\n",
      "\n",
      " [[231  17]\n",
      "  [ 20  20]]\n",
      "\n",
      " [[228  20]\n",
      "  [ 23  17]]\n",
      "\n",
      " [[248  15]\n",
      "  [ 16   9]]\n",
      "\n",
      " [[250  12]\n",
      "  [ 21   5]]\n",
      "\n",
      " [[234  13]\n",
      "  [ 16  25]]]\n"
     ]
    }
   ],
   "source": [
    "print(\"Confusion Matrix for Test Set:\")\n",
    "print(multilabel_confusion_matrix(classTest, test_pred))"
   ]
  },
  {
   "cell_type": "code",
   "execution_count": 15,
   "metadata": {},
   "outputs": [
    {
     "name": "stdout",
     "output_type": "stream",
     "text": [
      "Training Accuracy:  0.8003472222222222\n",
      "Testing Accuracy:  0.5243055555555556\n"
     ]
    }
   ],
   "source": [
    "from sklearn.metrics import accuracy_score\n",
    "\n",
    "print(\"Training Accuracy: \", accuracy_score(classTrain, train_pred))\n",
    "print(\"Testing Accuracy: \", accuracy_score(classTest, test_pred))"
   ]
  },
  {
   "cell_type": "code",
   "execution_count": 16,
   "metadata": {},
   "outputs": [
    {
     "name": "stdout",
     "output_type": "stream",
     "text": [
      "Classification Report for Training Set: \n",
      "              precision    recall  f1-score   support\n",
      "\n",
      "       ANGRY       0.79      0.88      0.83       154\n",
      "        CALM       0.76      0.93      0.83       156\n",
      "     DISGUST       0.85      0.80      0.82       150\n",
      "     FEARFUL       0.73      0.72      0.73       152\n",
      "       HAPPY       0.83      0.78      0.80       152\n",
      "     NEUTRAL       0.69      0.76      0.72        71\n",
      "         SAD       0.89      0.65      0.75       166\n",
      "   SURPRISED       0.85      0.87      0.86       151\n",
      "\n",
      "    accuracy                           0.80      1152\n",
      "   macro avg       0.80      0.80      0.79      1152\n",
      "weighted avg       0.81      0.80      0.80      1152\n",
      "\n"
     ]
    }
   ],
   "source": [
    "from sklearn.metrics import classification_report\n",
    "\n",
    "print(\"Classification Report for Training Set: \")\n",
    "print(classification_report(classTrain, train_pred, zero_division = 0, target_names = knn.classes_))"
   ]
  },
  {
   "cell_type": "code",
   "execution_count": 17,
   "metadata": {},
   "outputs": [
    {
     "name": "stdout",
     "output_type": "stream",
     "text": [
      "Classification Report for Training Set: \n",
      "              precision    recall  f1-score   support\n",
      "\n",
      "       ANGRY       0.53      0.68      0.60        38\n",
      "        CALM       0.58      0.83      0.68        36\n",
      "     DISGUST       0.56      0.45      0.50        42\n",
      "     FEARFUL       0.54      0.50      0.52        40\n",
      "       HAPPY       0.46      0.42      0.44        40\n",
      "     NEUTRAL       0.38      0.36      0.37        25\n",
      "         SAD       0.29      0.19      0.23        26\n",
      "   SURPRISED       0.66      0.61      0.63        41\n",
      "\n",
      "    accuracy                           0.52       288\n",
      "   macro avg       0.50      0.51      0.50       288\n",
      "weighted avg       0.52      0.52      0.51       288\n",
      "\n"
     ]
    }
   ],
   "source": [
    "from sklearn.metrics import classification_report\n",
    "\n",
    "print(\"Classification Report for Training Set: \")\n",
    "print(classification_report(classTest, test_pred, zero_division = 0, target_names = knn.classes_))"
   ]
  }
 ],
 "metadata": {
  "kernelspec": {
   "display_name": "Python 3 (ipykernel)",
   "language": "python",
   "name": "python3"
  },
  "language_info": {
   "codemirror_mode": {
    "name": "ipython",
    "version": 3
   },
   "file_extension": ".py",
   "mimetype": "text/x-python",
   "name": "python",
   "nbconvert_exporter": "python",
   "pygments_lexer": "ipython3",
   "version": "3.10.4"
  },
  "orig_nbformat": 4
 },
 "nbformat": 4,
 "nbformat_minor": 2
}
