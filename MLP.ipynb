{
 "cells": [
  {
   "cell_type": "code",
   "execution_count": 181,
   "metadata": {},
   "outputs": [],
   "source": [
    "import pandas as pd\n",
    "\n",
    "from sklearn.preprocessing import MinMaxScaler\n",
    "\n",
    "data = pd.read_csv(\"Dataset.csv\")\n",
    "data = data.drop('Name', axis = 1)\n",
    "\n",
    "x = data.drop('Emotion', axis = 1)\n",
    "y = data['Emotion']\n",
    "\n",
    "scaler = MinMaxScaler(feature_range = (0, 1))\n",
    "xRescaled = scaler.fit_transform(x)\n",
    "x = pd.DataFrame(data = xRescaled, columns = x.columns)"
   ]
  },
  {
   "cell_type": "code",
   "execution_count": 182,
   "metadata": {},
   "outputs": [],
   "source": [
    "from sklearn.model_selection import train_test_split\n",
    "from sklearn.neural_network import MLPClassifier\n",
    "\n",
    "dataTrain, dataTest, classTrain, classTest = train_test_split(x, y, test_size = 0.2, random_state = 123)\n",
    "\n",
    "mlp = MLPClassifier(solver = 'sgd', random_state = 123, activation = 'logistic', learning_rate_init = 0.3, batch_size = 100, \\\n",
    "                    hidden_layer_sizes = (100,50,), max_iter = 1000)\n",
    "\n",
    "mlp.fit(dataTrain, classTrain)\n",
    "\n",
    "predTrain = mlp.predict(dataTrain)\n",
    "predTest = mlp.predict(dataTest)"
   ]
  },
  {
   "cell_type": "code",
   "execution_count": 183,
   "metadata": {},
   "outputs": [
    {
     "name": "stdout",
     "output_type": "stream",
     "text": [
      "Confusion Matrix for Training Set:\n",
      "[[[ 998    0]\n",
      "  [   0  154]]\n",
      "\n",
      " [[ 996    0]\n",
      "  [   0  156]]\n",
      "\n",
      " [[1002    0]\n",
      "  [   0  150]]\n",
      "\n",
      " [[1000    0]\n",
      "  [   0  152]]\n",
      "\n",
      " [[1000    0]\n",
      "  [   0  152]]\n",
      "\n",
      " [[1081    0]\n",
      "  [   0   71]]\n",
      "\n",
      " [[ 986    0]\n",
      "  [   0  166]]\n",
      "\n",
      " [[1001    0]\n",
      "  [   0  151]]]\n"
     ]
    }
   ],
   "source": [
    "from sklearn.metrics import multilabel_confusion_matrix\n",
    "\n",
    "print(\"Confusion Matrix for Training Set:\")\n",
    "print(multilabel_confusion_matrix(classTrain, predTrain))"
   ]
  },
  {
   "cell_type": "code",
   "execution_count": 184,
   "metadata": {},
   "outputs": [
    {
     "name": "stdout",
     "output_type": "stream",
     "text": [
      "Confusion Matrix for Test Set:\n",
      "[[[236  14]\n",
      "  [  8  30]]\n",
      "\n",
      " [[236  16]\n",
      "  [ 13  23]]\n",
      "\n",
      " [[227  19]\n",
      "  [ 27  15]]\n",
      "\n",
      " [[239   9]\n",
      "  [ 17  23]]\n",
      "\n",
      " [[228  20]\n",
      "  [ 18  22]]\n",
      "\n",
      " [[249  14]\n",
      "  [ 21   4]]\n",
      "\n",
      " [[241  21]\n",
      "  [ 13  13]]\n",
      "\n",
      " [[228  19]\n",
      "  [ 15  26]]]\n"
     ]
    }
   ],
   "source": [
    "print(\"Confusion Matrix for Test Set:\")\n",
    "print(multilabel_confusion_matrix(classTest, predTest))"
   ]
  },
  {
   "cell_type": "code",
   "execution_count": 185,
   "metadata": {},
   "outputs": [
    {
     "name": "stdout",
     "output_type": "stream",
     "text": [
      "Training Accuracy:  1.0\n",
      "Testing Accuracy:  0.5416666666666666\n"
     ]
    }
   ],
   "source": [
    "from sklearn.metrics import accuracy_score\n",
    "\n",
    "print(\"Training Accuracy: \", accuracy_score(classTrain, predTrain))\n",
    "print(\"Testing Accuracy: \", accuracy_score(classTest, predTest))"
   ]
  },
  {
   "cell_type": "code",
   "execution_count": 186,
   "metadata": {},
   "outputs": [
    {
     "name": "stdout",
     "output_type": "stream",
     "text": [
      "Classification Report for Training Set: \n",
      "              precision    recall  f1-score   support\n",
      "\n",
      "       ANGRY       1.00      1.00      1.00       154\n",
      "        CALM       1.00      1.00      1.00       156\n",
      "     DISGUST       1.00      1.00      1.00       150\n",
      "     FEARFUL       1.00      1.00      1.00       152\n",
      "       HAPPY       1.00      1.00      1.00       152\n",
      "     NEUTRAL       1.00      1.00      1.00        71\n",
      "         SAD       1.00      1.00      1.00       166\n",
      "   SURPRISED       1.00      1.00      1.00       151\n",
      "\n",
      "    accuracy                           1.00      1152\n",
      "   macro avg       1.00      1.00      1.00      1152\n",
      "weighted avg       1.00      1.00      1.00      1152\n",
      "\n"
     ]
    }
   ],
   "source": [
    "from sklearn.metrics import classification_report\n",
    "\n",
    "print(\"Classification Report for Training Set: \")\n",
    "print(classification_report(classTrain, predTrain, zero_division = 0, target_names = mlp.classes_))"
   ]
  },
  {
   "cell_type": "code",
   "execution_count": 187,
   "metadata": {},
   "outputs": [
    {
     "name": "stdout",
     "output_type": "stream",
     "text": [
      "Classification Report for Testing Set: \n",
      "              precision    recall  f1-score   support\n",
      "\n",
      "       ANGRY       0.68      0.79      0.73        38\n",
      "        CALM       0.59      0.64      0.61        36\n",
      "     DISGUST       0.44      0.36      0.39        42\n",
      "     FEARFUL       0.72      0.57      0.64        40\n",
      "       HAPPY       0.52      0.55      0.54        40\n",
      "     NEUTRAL       0.22      0.16      0.19        25\n",
      "         SAD       0.38      0.50      0.43        26\n",
      "   SURPRISED       0.58      0.63      0.60        41\n",
      "\n",
      "    accuracy                           0.54       288\n",
      "   macro avg       0.52      0.53      0.52       288\n",
      "weighted avg       0.54      0.54      0.54       288\n",
      "\n"
     ]
    }
   ],
   "source": [
    "print(\"Classification Report for Testing Set: \")\n",
    "print(classification_report(classTest, predTest, zero_division = 0, target_names = mlp.classes_))"
   ]
  }
 ],
 "metadata": {
  "kernelspec": {
   "display_name": ".venv",
   "language": "python",
   "name": "python3"
  },
  "language_info": {
   "codemirror_mode": {
    "name": "ipython",
    "version": 3
   },
   "file_extension": ".py",
   "mimetype": "text/x-python",
   "name": "python",
   "nbconvert_exporter": "python",
   "pygments_lexer": "ipython3",
   "version": "3.11.2"
  },
  "orig_nbformat": 4
 },
 "nbformat": 4,
 "nbformat_minor": 2
}
